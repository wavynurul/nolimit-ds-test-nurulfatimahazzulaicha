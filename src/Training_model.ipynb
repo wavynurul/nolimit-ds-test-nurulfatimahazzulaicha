{
  "nbformat": 4,
  "nbformat_minor": 0,
  "metadata": {
    "colab": {
      "provenance": []
    },
    "kernelspec": {
      "name": "python3",
      "display_name": "Python 3"
    },
    "language_info": {
      "name": "python"
    }
  },
  "cells": [
    {
      "cell_type": "code",
      "execution_count": 7,
      "metadata": {
        "id": "W9gzY49Dw1Vd"
      },
      "outputs": [],
      "source": [
        "# Install required packages (for Colab or clean environment)\n",
        "!pip install pandas scikit-learn torch transformers joblib numpy --quiet\n"
      ]
    },
    {
      "cell_type": "code",
      "source": [
        "import pandas as pd\n",
        "from sklearn.model_selection import train_test_split\n",
        "from sklearn.linear_model import LogisticRegression\n",
        "from sklearn.preprocessing import LabelEncoder\n",
        "import torch\n",
        "from transformers import DistilBertTokenizer, DistilBertModel\n",
        "import joblib\n",
        "import numpy as np\n",
        "\n",
        "# Load dataset\n",
        "df = pd.read_csv(\"/content/customer_support_tickets.csv\")  # replace with Kaggle CSV\n",
        "\n",
        "# For demo, sample 5000 rows\n",
        "df = df.sample(5000, random_state=42)\n",
        "\n",
        "# Combine subject + description as input text\n",
        "df['TicketText'] = df['Ticket Subject'].fillna('') + ' ' + df['Ticket Description'].fillna('')\n",
        "\n",
        "# Encode target\n",
        "le = LabelEncoder()\n",
        "df['PriorityLabel'] = le.fit_transform(df['Ticket Priority'])  # High/Medium/Low -> 0/1/2\n",
        "\n",
        "# Split\n",
        "X_train, X_test, y_train, y_test = train_test_split(df['TicketText'], df['PriorityLabel'], test_size=0.2, random_state=42)\n",
        "\n",
        "# Load DistilBERT model\n",
        "tokenizer = DistilBertTokenizer.from_pretrained('distilbert-base-uncased')\n",
        "model = DistilBertModel.from_pretrained('distilbert-base-uncased')\n",
        "\n",
        "def embed_texts(texts, tokenizer, model, max_length=128):\n",
        "    \"\"\"Convert list of texts to embeddings using DistilBERT CLS token.\"\"\"\n",
        "    embeddings = []\n",
        "    batch_size = 16\n",
        "    for i in range(0, len(texts), batch_size):\n",
        "        batch = texts[i:i+batch_size]\n",
        "        encoded = tokenizer(batch, padding=True, truncation=True, max_length=max_length, return_tensors='pt')\n",
        "        with torch.no_grad():\n",
        "            outputs = model(**encoded)\n",
        "            cls_embeddings = outputs.last_hidden_state[:,0,:]  # CLS token\n",
        "            embeddings.append(cls_embeddings)\n",
        "    return torch.cat(embeddings).numpy()\n",
        "\n",
        "# Embed tickets\n",
        "print(\"Embedding training tickets with DistilBERT...\")\n",
        "X_train_emb = embed_texts(X_train.tolist(), tokenizer, model)\n",
        "print(\"Embedding test tickets with DistilBERT...\")\n",
        "X_test_emb = embed_texts(X_test.tolist(), tokenizer, model)\n",
        "\n",
        "# Train classifier\n",
        "clf = LogisticRegression(max_iter=1000)\n",
        "clf.fit(X_train_emb, y_train)\n",
        "\n",
        "# Save models and tokenizer\n",
        "joblib.dump(clf, \"ticket_priority_clf.joblib\")\n",
        "joblib.dump(le, \"label_encoder.joblib\")\n",
        "joblib.dump(tokenizer, \"distilbert_tokenizer.joblib\")\n",
        "joblib.dump(model, \"distilbert_model.joblib\")\n",
        "\n",
        "print(\"✅ Models saved successfully!\")\n"
      ],
      "metadata": {
        "colab": {
          "base_uri": "https://localhost:8080/"
        },
        "id": "1SYp1pZj-gpQ",
        "outputId": "8e52a4eb-eef3-4a2b-9c56-1faeeddf39bc"
      },
      "execution_count": 8,
      "outputs": [
        {
          "output_type": "stream",
          "name": "stdout",
          "text": [
            "Embedding training tickets with DistilBERT...\n",
            "Embedding test tickets with DistilBERT...\n",
            "✅ Models saved successfully!\n"
          ]
        }
      ]
    },
    {
      "cell_type": "code",
      "source": [
        "import pandas as pd\n",
        "\n",
        "# Create sample ticket data\n",
        "data = [\n",
        "    [\"Login Issue\", \"Customer cannot log into the account since yesterday. Tried resetting password but it didn't work.\"],\n",
        "    [\"Payment Failed\", \"Payment failed multiple times during checkout. Needs urgent resolution.\"],\n",
        "    [\"Product Defect\", \"The delivered product is defective and not working as expected. Wants replacement.\"],\n",
        "    [\"Account Suspension\", \"Customer account was suspended without notification. Wants clarification.\"],\n",
        "    [\"Shipping Delay\", \"Order not received yet. Expected delivery was 5 days ago. Needs update.\"],\n",
        "    [\"Refund Request\", \"Customer requested a refund for the last order but hasn't received confirmation.\"],\n",
        "    [\"Feature Request\", \"Customer wants a dark mode feature in the mobile app for better usability.\"],\n",
        "    [\"App Crash\", \"App crashes when opening the profile page. Happens on both iOS and Android.\"],\n",
        "    [\"Wrong Billing\", \"Customer was charged twice for the same order. Needs correction immediately.\"],\n",
        "    [\"Password Reset\", \"Customer forgot password and password reset email not received.\"]\n",
        "]\n",
        "\n",
        "# Build DataFrame\n",
        "df = pd.DataFrame(data, columns=[\"Ticket Subject\", \"Ticket Description\"])\n",
        "df['TicketText'] = df['Ticket Subject'] + ' ' + df['Ticket Description']\n",
        "\n",
        "# Save CSV\n",
        "df.to_csv(\"sample_test.csv\", index=False)\n",
        "print(\"✅ sample_test.csv created successfully!\")\n",
        "\n",
        "# Optional: for Colab, provide download link\n",
        "from google.colab import files\n",
        "files.download(\"sample_test.csv\")\n"
      ],
      "metadata": {
        "colab": {
          "base_uri": "https://localhost:8080/",
          "height": 34
        },
        "id": "fvQnYUZUZsZh",
        "outputId": "d63519e2-9fcc-42ef-a3ac-e5643a070b6e"
      },
      "execution_count": 1,
      "outputs": [
        {
          "output_type": "stream",
          "name": "stdout",
          "text": [
            "✅ sample_test.csv created successfully!\n"
          ]
        },
        {
          "output_type": "display_data",
          "data": {
            "text/plain": [
              "<IPython.core.display.Javascript object>"
            ],
            "application/javascript": [
              "\n",
              "    async function download(id, filename, size) {\n",
              "      if (!google.colab.kernel.accessAllowed) {\n",
              "        return;\n",
              "      }\n",
              "      const div = document.createElement('div');\n",
              "      const label = document.createElement('label');\n",
              "      label.textContent = `Downloading \"${filename}\": `;\n",
              "      div.appendChild(label);\n",
              "      const progress = document.createElement('progress');\n",
              "      progress.max = size;\n",
              "      div.appendChild(progress);\n",
              "      document.body.appendChild(div);\n",
              "\n",
              "      const buffers = [];\n",
              "      let downloaded = 0;\n",
              "\n",
              "      const channel = await google.colab.kernel.comms.open(id);\n",
              "      // Send a message to notify the kernel that we're ready.\n",
              "      channel.send({})\n",
              "\n",
              "      for await (const message of channel.messages) {\n",
              "        // Send a message to notify the kernel that we're ready.\n",
              "        channel.send({})\n",
              "        if (message.buffers) {\n",
              "          for (const buffer of message.buffers) {\n",
              "            buffers.push(buffer);\n",
              "            downloaded += buffer.byteLength;\n",
              "            progress.value = downloaded;\n",
              "          }\n",
              "        }\n",
              "      }\n",
              "      const blob = new Blob(buffers, {type: 'application/binary'});\n",
              "      const a = document.createElement('a');\n",
              "      a.href = window.URL.createObjectURL(blob);\n",
              "      a.download = filename;\n",
              "      div.appendChild(a);\n",
              "      a.click();\n",
              "      div.remove();\n",
              "    }\n",
              "  "
            ]
          },
          "metadata": {}
        },
        {
          "output_type": "display_data",
          "data": {
            "text/plain": [
              "<IPython.core.display.Javascript object>"
            ],
            "application/javascript": [
              "download(\"download_0ba95bbd-f0ad-4adb-988f-4008e37ada53\", \"sample_test.csv\", 1883)"
            ]
          },
          "metadata": {}
        }
      ]
    },
    {
      "cell_type": "code",
      "source": [
        "import pandas as pd\n",
        "\n",
        "df = pd.read_csv(\"/content/customer_support_tickets.csv\")\n",
        "print(df.columns)\n"
      ],
      "metadata": {
        "colab": {
          "base_uri": "https://localhost:8080/"
        },
        "id": "Q53Y5bMW_UTH",
        "outputId": "ef0e94b9-672e-4fe1-c93c-a3961e169c6a"
      },
      "execution_count": 6,
      "outputs": [
        {
          "output_type": "stream",
          "name": "stdout",
          "text": [
            "Index(['Ticket ID', 'Customer Name', 'Customer Email', 'Customer Age',\n",
            "       'Customer Gender', 'Product Purchased', 'Date of Purchase',\n",
            "       'Ticket Type', 'Ticket Subject', 'Ticket Description', 'Ticket Status',\n",
            "       'Resolution', 'Ticket Priority', 'Ticket Channel',\n",
            "       'First Response Time', 'Time to Resolution',\n",
            "       'Customer Satisfaction Rating'],\n",
            "      dtype='object')\n"
          ]
        }
      ]
    }
  ]
}